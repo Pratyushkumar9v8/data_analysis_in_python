{
 "cells": [
  {
   "cell_type": "code",
   "execution_count": 1,
   "id": "3dfe192a",
   "metadata": {},
   "outputs": [],
   "source": [
    "w1,w2,w3= 0.3,0.2,0.5"
   ]
  },
  {
   "cell_type": "code",
   "execution_count": 2,
   "id": "1f7ceb6a",
   "metadata": {},
   "outputs": [],
   "source": [
    "kanto=[73,67,38]\n",
    "johto=[85,78,50]\n",
    "hoenn=[70,64,45]\n",
    "sinnoh=[90,88,60]\n",
    "unova=[95,80,55]"
   ]
  },
  {
   "cell_type": "code",
   "execution_count": 3,
   "id": "d1200d83",
   "metadata": {},
   "outputs": [],
   "source": [
    "weights=[w1,w2,w3]"
   ]
  },
  {
   "cell_type": "code",
   "execution_count": 4,
   "id": "5744ebe6",
   "metadata": {},
   "outputs": [],
   "source": [
    "def crop_yield(region, weights):\n",
    "    result=0\n",
    "    for x,w in zip(region , weights):\n",
    "        result+= x*w\n",
    "    return result"
   ]
  },
  {
   "cell_type": "code",
   "execution_count": 5,
   "id": "a8140137",
   "metadata": {},
   "outputs": [
    {
     "data": {
      "text/plain": [
       "66.1"
      ]
     },
     "execution_count": 5,
     "metadata": {},
     "output_type": "execute_result"
    }
   ],
   "source": [
    "crop_yield(johto , weights)"
   ]
  },
  {
   "cell_type": "code",
   "execution_count": 6,
   "id": "1d2387d8",
   "metadata": {},
   "outputs": [],
   "source": [
    "import numpy as np"
   ]
  },
  {
   "cell_type": "code",
   "execution_count": 7,
   "id": "cf452aff",
   "metadata": {},
   "outputs": [],
   "source": [
    "kanto=np.array([73,67,38])\n",
    "johto=np.array([85,78,50])\n",
    "hoenn=np.array([70,64,45])\n",
    "sinnoh=np.array([90,88,60])\n",
    "unova=np.array([95,80,55])"
   ]
  },
  {
   "cell_type": "code",
   "execution_count": 10,
   "id": "0f43f297",
   "metadata": {},
   "outputs": [
    {
     "data": {
      "text/plain": [
       "numpy.ndarray"
      ]
     },
     "execution_count": 10,
     "metadata": {},
     "output_type": "execute_result"
    }
   ],
   "source": [
    "type(kanto)"
   ]
  },
  {
   "cell_type": "code",
   "execution_count": 11,
   "id": "96567609",
   "metadata": {},
   "outputs": [
    {
     "data": {
      "text/plain": [
       "np.float64(54.3)"
      ]
     },
     "execution_count": 11,
     "metadata": {},
     "output_type": "execute_result"
    }
   ],
   "source": [
    "np.dot(kanto, weights)"
   ]
  },
  {
   "cell_type": "code",
   "execution_count": 8,
   "id": "9130ea19",
   "metadata": {},
   "outputs": [
    {
     "data": {
      "text/plain": [
       "array([21.9, 13.4, 19. ])"
      ]
     },
     "execution_count": 8,
     "metadata": {},
     "output_type": "execute_result"
    }
   ],
   "source": [
    "kanto*weights"
   ]
  },
  {
   "cell_type": "code",
   "execution_count": 9,
   "id": "0cd00016",
   "metadata": {},
   "outputs": [
    {
     "data": {
      "text/plain": [
       "np.float64(54.3)"
      ]
     },
     "execution_count": 9,
     "metadata": {},
     "output_type": "execute_result"
    }
   ],
   "source": [
    "(kanto*weights).sum()"
   ]
  },
  {
   "cell_type": "code",
   "execution_count": 12,
   "id": "509e6c6b",
   "metadata": {},
   "outputs": [],
   "source": [
    "arr1= list(range(1000000))\n",
    "arr2=list(range(1000000,2000000))\n",
    "\n",
    "# numpy array\n",
    "arr1_np=np.array(arr1)\n",
    "arr2_np=np.array(arr2)"
   ]
  },
  {
   "cell_type": "code",
   "execution_count": 13,
   "id": "c6adc445",
   "metadata": {},
   "outputs": [
    {
     "name": "stdout",
     "output_type": "stream",
     "text": [
      "CPU times: total: 156 ms\n",
      "Wall time: 166 ms\n"
     ]
    },
    {
     "data": {
      "text/plain": [
       "833332333333500000"
      ]
     },
     "execution_count": 13,
     "metadata": {},
     "output_type": "execute_result"
    }
   ],
   "source": [
    "%%time\n",
    "result=0\n",
    "for x,y in zip(arr1,arr2):\n",
    "    result+=x*y\n",
    "result"
   ]
  },
  {
   "cell_type": "code",
   "execution_count": 14,
   "id": "a5713433",
   "metadata": {},
   "outputs": [
    {
     "name": "stdout",
     "output_type": "stream",
     "text": [
      "CPU times: total: 0 ns\n",
      "Wall time: 3.19 ms\n"
     ]
    },
    {
     "data": {
      "text/plain": [
       "np.int64(833332333333500000)"
      ]
     },
     "execution_count": 14,
     "metadata": {},
     "output_type": "execute_result"
    }
   ],
   "source": [
    "%%time\n",
    "np.dot(arr1_np,arr2_np)"
   ]
  },
  {
   "cell_type": "markdown",
   "id": "5c79a68f",
   "metadata": {},
   "source": [
    "Multi dimensional array"
   ]
  },
  {
   "cell_type": "code",
   "execution_count": 15,
   "id": "b3daaf07",
   "metadata": {},
   "outputs": [],
   "source": [
    "climate_data=np.array([[73,67,43],\n",
    "                       [91,88,64],\n",
    "                       [87,134,58]])"
   ]
  },
  {
   "cell_type": "code",
   "execution_count": 16,
   "id": "9fc517e1",
   "metadata": {},
   "outputs": [
    {
     "data": {
      "text/plain": [
       "array([[ 73,  67,  43],\n",
       "       [ 91,  88,  64],\n",
       "       [ 87, 134,  58]])"
      ]
     },
     "execution_count": 16,
     "metadata": {},
     "output_type": "execute_result"
    }
   ],
   "source": [
    "climate_data"
   ]
  },
  {
   "cell_type": "code",
   "execution_count": 17,
   "id": "56542dbb",
   "metadata": {},
   "outputs": [
    {
     "data": {
      "text/plain": [
       "(3, 3)"
      ]
     },
     "execution_count": 17,
     "metadata": {},
     "output_type": "execute_result"
    }
   ],
   "source": [
    "climate_data.shape"
   ]
  },
  {
   "cell_type": "code",
   "execution_count": 20,
   "id": "f006b56c",
   "metadata": {},
   "outputs": [],
   "source": [
    "weight=np.array(weights)"
   ]
  },
  {
   "cell_type": "code",
   "execution_count": 21,
   "id": "bc5db11e",
   "metadata": {},
   "outputs": [
    {
     "data": {
      "text/plain": [
       "(3,)"
      ]
     },
     "execution_count": 21,
     "metadata": {},
     "output_type": "execute_result"
    }
   ],
   "source": [
    "weight.shape"
   ]
  },
  {
   "cell_type": "code",
   "execution_count": 22,
   "id": "f28d4030",
   "metadata": {},
   "outputs": [],
   "source": [
    "arr3=np.array([[[73,67,43],\n",
    "                [91,88,64]],\n",
    "                [[73,67,43],\n",
    "                [91,88,64]]])"
   ]
  },
  {
   "cell_type": "code",
   "execution_count": 23,
   "id": "baf9a11e",
   "metadata": {},
   "outputs": [
    {
     "data": {
      "text/plain": [
       "(2, 2, 3)"
      ]
     },
     "execution_count": 23,
     "metadata": {},
     "output_type": "execute_result"
    }
   ],
   "source": [
    "arr3.shape"
   ]
  },
  {
   "cell_type": "code",
   "execution_count": 24,
   "id": "4c08b2e9",
   "metadata": {},
   "outputs": [
    {
     "data": {
      "text/plain": [
       "dtype('float64')"
      ]
     },
     "execution_count": 24,
     "metadata": {},
     "output_type": "execute_result"
    }
   ],
   "source": [
    "weight.dtype"
   ]
  },
  {
   "cell_type": "code",
   "execution_count": 26,
   "id": "91f83491",
   "metadata": {},
   "outputs": [],
   "source": [
    "arr4=np.array([[[73,67,43],\n",
    "                [91,88,64]],\n",
    "                [[73,67,43],\n",
    "                [91,88,64.2]]])"
   ]
  },
  {
   "cell_type": "code",
   "execution_count": 29,
   "id": "1b05da28",
   "metadata": {},
   "outputs": [
    {
     "data": {
      "text/plain": [
       "dtype('int64')"
      ]
     },
     "execution_count": 29,
     "metadata": {},
     "output_type": "execute_result"
    }
   ],
   "source": [
    "arr3.dtype"
   ]
  },
  {
   "cell_type": "code",
   "execution_count": 30,
   "id": "1035ee37",
   "metadata": {},
   "outputs": [
    {
     "data": {
      "text/plain": [
       "dtype('float64')"
      ]
     },
     "execution_count": 30,
     "metadata": {},
     "output_type": "execute_result"
    }
   ],
   "source": [
    "arr4.dtype"
   ]
  },
  {
   "cell_type": "code",
   "execution_count": 31,
   "id": "a7ae1cbf",
   "metadata": {},
   "outputs": [
    {
     "data": {
      "text/plain": [
       "array([[[73. , 67. , 43. ],\n",
       "        [91. , 88. , 64. ]],\n",
       "\n",
       "       [[73. , 67. , 43. ],\n",
       "        [91. , 88. , 64.2]]])"
      ]
     },
     "execution_count": 31,
     "metadata": {},
     "output_type": "execute_result"
    }
   ],
   "source": [
    "arr4"
   ]
  },
  {
   "cell_type": "code",
   "execution_count": 32,
   "id": "ef6e35ef",
   "metadata": {},
   "outputs": [
    {
     "data": {
      "text/plain": [
       "array([56.8, 76.9, 81.9])"
      ]
     },
     "execution_count": 32,
     "metadata": {},
     "output_type": "execute_result"
    }
   ],
   "source": [
    "np.matmul(climate_data,weight)"
   ]
  },
  {
   "cell_type": "code",
   "execution_count": 33,
   "id": "d884b8be",
   "metadata": {},
   "outputs": [
    {
     "data": {
      "text/plain": [
       "array([56.8, 76.9, 81.9])"
      ]
     },
     "execution_count": 33,
     "metadata": {},
     "output_type": "execute_result"
    }
   ],
   "source": [
    "climate_data @ weight"
   ]
  }
 ],
 "metadata": {
  "kernelspec": {
   "display_name": "Python 3",
   "language": "python",
   "name": "python3"
  },
  "language_info": {
   "codemirror_mode": {
    "name": "ipython",
    "version": 3
   },
   "file_extension": ".py",
   "mimetype": "text/x-python",
   "name": "python",
   "nbconvert_exporter": "python",
   "pygments_lexer": "ipython3",
   "version": "3.13.5"
  }
 },
 "nbformat": 4,
 "nbformat_minor": 5
}
