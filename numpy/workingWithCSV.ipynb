{
 "cells": [
  {
   "cell_type": "markdown",
   "id": "8e2f113b",
   "metadata": {},
   "source": [
    "Working with csv file"
   ]
  },
  {
   "cell_type": "code",
   "execution_count": 14,
   "id": "7caa9bff",
   "metadata": {},
   "outputs": [],
   "source": [
    "import numpy as np"
   ]
  },
  {
   "cell_type": "code",
   "execution_count": 15,
   "id": "282a67c2",
   "metadata": {},
   "outputs": [],
   "source": [
    "climate_data= np.genfromtxt('climate.txt',delimiter=',',skip_header=1)"
   ]
  },
  {
   "cell_type": "code",
   "execution_count": 16,
   "id": "ac1290a7",
   "metadata": {},
   "outputs": [
    {
     "data": {
      "text/plain": [
       "array([[25., 76., 99.],\n",
       "       [39., 65., 70.],\n",
       "       [59., 45., 77.],\n",
       "       [84., 63., 38.],\n",
       "       [66., 50., 52.],\n",
       "       [41., 94., 77.],\n",
       "       [91., 57., 96.],\n",
       "       [49., 96., 99.],\n",
       "       [67., 20., 28.]])"
      ]
     },
     "execution_count": 16,
     "metadata": {},
     "output_type": "execute_result"
    }
   ],
   "source": [
    "climate_data"
   ]
  },
  {
   "cell_type": "code",
   "execution_count": 17,
   "id": "8a546f8c",
   "metadata": {},
   "outputs": [
    {
     "data": {
      "text/plain": [
       "(9, 3)"
      ]
     },
     "execution_count": 17,
     "metadata": {},
     "output_type": "execute_result"
    }
   ],
   "source": [
    "climate_data.shape"
   ]
  },
  {
   "cell_type": "code",
   "execution_count": 18,
   "id": "ca87dd61",
   "metadata": {},
   "outputs": [],
   "source": [
    "weights=np.array([0.3,0.2,0.5])"
   ]
  },
  {
   "cell_type": "code",
   "execution_count": 19,
   "id": "19e9ff3b",
   "metadata": {},
   "outputs": [],
   "source": [
    "yields=climate_data @ weights"
   ]
  },
  {
   "cell_type": "code",
   "execution_count": 20,
   "id": "d65b9d6e",
   "metadata": {},
   "outputs": [
    {
     "data": {
      "text/plain": [
       "array([72.2, 59.7, 65.2, 56.8, 55.8, 69.6, 86.7, 83.4, 38.1])"
      ]
     },
     "execution_count": 20,
     "metadata": {},
     "output_type": "execute_result"
    }
   ],
   "source": [
    "yields"
   ]
  },
  {
   "cell_type": "code",
   "execution_count": 21,
   "id": "341c7db8",
   "metadata": {},
   "outputs": [
    {
     "data": {
      "text/plain": [
       "(9,)"
      ]
     },
     "execution_count": 21,
     "metadata": {},
     "output_type": "execute_result"
    }
   ],
   "source": [
    "yields.shape"
   ]
  },
  {
   "cell_type": "markdown",
   "id": "7d8d7923",
   "metadata": {},
   "source": [
    "We can now add the yields back to climate_data as a fourth column using the\n",
    "function. np.concatenate *****\n",
    "\n",
    "\n",
    "np.reshape ***** used to change the shape like (9,) to (9,1) \n"
   ]
  },
  {
   "cell_type": "code",
   "execution_count": 22,
   "id": "6a6e0fdc",
   "metadata": {},
   "outputs": [],
   "source": [
    "climate_results=np.concatenate((climate_data,yields.reshape(9,1)),axis=1)"
   ]
  },
  {
   "cell_type": "code",
   "execution_count": 23,
   "id": "d736aa02",
   "metadata": {},
   "outputs": [
    {
     "data": {
      "text/plain": [
       "array([[25. , 76. , 99. , 72.2],\n",
       "       [39. , 65. , 70. , 59.7],\n",
       "       [59. , 45. , 77. , 65.2],\n",
       "       [84. , 63. , 38. , 56.8],\n",
       "       [66. , 50. , 52. , 55.8],\n",
       "       [41. , 94. , 77. , 69.6],\n",
       "       [91. , 57. , 96. , 86.7],\n",
       "       [49. , 96. , 99. , 83.4],\n",
       "       [67. , 20. , 28. , 38.1]])"
      ]
     },
     "execution_count": 23,
     "metadata": {},
     "output_type": "execute_result"
    }
   ],
   "source": [
    "climate_results"
   ]
  },
  {
   "cell_type": "markdown",
   "id": "09c9e3ba",
   "metadata": {},
   "source": [
    "practice on concatenation"
   ]
  },
  {
   "cell_type": "code",
   "execution_count": 24,
   "id": "75eeff85",
   "metadata": {},
   "outputs": [
    {
     "name": "stdout",
     "output_type": "stream",
     "text": [
      "Concatenated along axis 0:\n",
      " [[1 2]\n",
      " [3 4]\n",
      " [5 6]\n",
      " [7 8]]\n",
      "\n",
      "Concatenated along axis 1:\n",
      " [[1 2 5 6]\n",
      " [3 4 7 8]]\n"
     ]
    }
   ],
   "source": [
    "# Create two 2x2 arrays\n",
    "arr1 = np.array([[1, 2],\n",
    "                [3, 4]])\n",
    "\n",
    "arr2 = np.array([[5, 6],\n",
    "                [7, 8]])\n",
    "\n",
    "# Concatenate along axis=0 (vertically)\n",
    "concat_axis_0 = np.concatenate((arr1, arr2), axis=0)\n",
    "print(\"Concatenated along axis 0:\\n\", concat_axis_0)\n",
    "\n",
    "# Concatenate along axis=1 (horizontally)\n",
    "concat_axis_1 = np.concatenate((arr1, arr2), axis=1)\n",
    "print(\"\\nConcatenated along axis 1:\\n\", concat_axis_1)"
   ]
  },
  {
   "cell_type": "markdown",
   "id": "868ad799",
   "metadata": {},
   "source": [
    "practice on reshape"
   ]
  },
  {
   "cell_type": "code",
   "execution_count": 25,
   "id": "df538a3a",
   "metadata": {},
   "outputs": [
    {
     "name": "stdout",
     "output_type": "stream",
     "text": [
      "[ 0  1  2  3  4  5  6  7  8  9 10 11]\n",
      "Reshaped to 3x4:\n",
      " [[ 0  1  2  3]\n",
      " [ 4  5  6  7]\n",
      " [ 8  9 10 11]]\n",
      "\n",
      "Reshaped with inferred dimension:\n",
      " [[ 0  1  2  3  4  5]\n",
      " [ 6  7  8  9 10 11]]\n",
      "\n",
      "Flattened array:\n",
      " [ 0  1  2  3  4  5  6  7  8  9 10 11]\n"
     ]
    }
   ],
   "source": [
    "# Create a 1D array with 12 elements\n",
    "arr = np.array([0, 1, 2, 3, 4, 5, 6, 7, 8, 9, 10, 11])\n",
    "\n",
    "print(arr)\n",
    "# Reshape to a 3x4 2D array\n",
    "reshaped_2d = np.reshape(arr, (3, 4))\n",
    "print(\"Reshaped to 3x4:\\n\", reshaped_2d)\n",
    "\n",
    "# Reshape using -1 for an inferred dimension\n",
    "reshaped_inferred = np.reshape(arr, (2, -1))\n",
    "print(\"\\nReshaped with inferred dimension:\\n\", reshaped_inferred)\n",
    "\n",
    "# Flatten an array using -1\n",
    "flattened_arr = np.reshape(reshaped_2d, -1)\n",
    "print(\"\\nFlattened array:\\n\", flattened_arr)"
   ]
  },
  {
   "cell_type": "markdown",
   "id": "f6f9edd1",
   "metadata": {},
   "source": [
    "to save back csv in file"
   ]
  },
  {
   "cell_type": "code",
   "execution_count": 26,
   "id": "3f91fa4b",
   "metadata": {},
   "outputs": [],
   "source": [
    "np.savetxt('climate.txt',climate_results,fmt='%.2f',\n",
    "           header='temprature,rainfall,humidity,yield_apples',comments='')"
   ]
  },
  {
   "cell_type": "markdown",
   "id": "e4d27916",
   "metadata": {},
   "source": [
    ". Mathematics: np.sum, np.exp , np. round , arithemtic operators\n",
    "· Array manipulation: np.reshape, np.stack, np.concatenate, np.split\n",
    ". Linear Algebra: np.matmul , np.dot , np.transpose, np.eigvals\n",
    ". Statistics: np.mean , np.median, np.std, np.max\n"
   ]
  }
 ],
 "metadata": {
  "kernelspec": {
   "display_name": "Python 3",
   "language": "python",
   "name": "python3"
  },
  "language_info": {
   "codemirror_mode": {
    "name": "ipython",
    "version": 3
   },
   "file_extension": ".py",
   "mimetype": "text/x-python",
   "name": "python",
   "nbconvert_exporter": "python",
   "pygments_lexer": "ipython3",
   "version": "3.13.5"
  }
 },
 "nbformat": 4,
 "nbformat_minor": 5
}
