{
 "cells": [
  {
   "cell_type": "markdown",
   "id": "5ce143b2",
   "metadata": {},
   "source": [
    "<!-- https://www.kaggle.com/code/pratyushsharma9/notebook147a381295/edit -->"
   ]
  },
  {
   "cell_type": "code",
   "execution_count": 1,
   "id": "0d4f5220",
   "metadata": {},
   "outputs": [],
   "source": [
    "person = {\"Name\":'Pratyush Kumar', \"Age\":18, \"HasAndroidPhone\":True}"
   ]
  },
  {
   "cell_type": "code",
   "execution_count": 2,
   "id": "f5577d0b",
   "metadata": {},
   "outputs": [
    {
     "name": "stdout",
     "output_type": "stream",
     "text": [
      "Pratyush Kumar is aged 18, and owns an Android phone.\n"
     ]
    }
   ],
   "source": [
    "print(\"{} is aged {}, and owns an {}.\".format(\n",
    "    person[\"Name\"], \n",
    "    person[\"Age\"], \n",
    "    \"Android phone\" if person[\"HasAndroidPhone\"] else \"iPhone\"\n",
    "))"
   ]
  },
  {
   "cell_type": "code",
   "execution_count": 3,
   "id": "eb5d0b59",
   "metadata": {},
   "outputs": [
    {
     "name": "stdout",
     "output_type": "stream",
     "text": [
      "The key Name has the value Pratyush Kumar of the type <class 'str'>\n",
      "The key Age has the value 18 of the type <class 'int'>\n",
      "The key HasAndroidPhone has the value True of the type <class 'bool'>\n"
     ]
    }
   ],
   "source": [
    "for key , value in person.items():\n",
    "    print(\"The key {} has the value {} of the type {}\".format(key,value,type(value)))"
   ]
  },
  {
   "cell_type": "code",
   "execution_count": 4,
   "id": "71998404",
   "metadata": {},
   "outputs": [
    {
     "name": "stdout",
     "output_type": "stream",
     "text": [
      "The sum of numbers between 18 and 534 that are divisible by 7 is 20461\n"
     ]
    }
   ],
   "source": [
    "# store the final answer in this variable\n",
    "sum_of_numbers = 0\n",
    "\n",
    "# perform the calculation here\n",
    "for i in range(18,534):\n",
    "    if i%7==0 :\n",
    "        sum_of_numbers+=i\n",
    "\n",
    "print(\"The sum of numbers between 18 and 534 that are divisible by 7 is {}\".format(sum_of_numbers))"
   ]
  },
  {
   "cell_type": "code",
   "execution_count": 5,
   "id": "f8d8d4d0",
   "metadata": {},
   "outputs": [],
   "source": [
    "tweets = [\n",
    "    \"Wow, what a great day today!! #sunshine\",\n",
    "    \"I feel sad about the things going on around us. #covid19\",\n",
    "    \"I'm really excited to learn Python with @JovianML #zerotopandas\",\n",
    "    \"This is a really nice song. #linkinpark\",\n",
    "    \"The python programming language is useful for data science\",\n",
    "    \"Why do bad things happen to me?\",\n",
    "    \"Apple announces the release of the new iPhone 12. Fans are excited.\",\n",
    "    \"Spent my day with family!! #happy\",\n",
    "    \"Check out my blog post on common string operations in Python. #zerotopandas\",\n",
    "    \"Freecodecamp has great coding tutorials. #skillup\"\n",
    "]"
   ]
  },
  {
   "cell_type": "code",
   "execution_count": 6,
   "id": "607d9e85",
   "metadata": {},
   "outputs": [],
   "source": [
    "happy_words = ['great', 'excited', 'happy', 'nice', 'wonderful', 'amazing', 'good', 'best']"
   ]
  },
  {
   "cell_type": "code",
   "execution_count": 7,
   "id": "f9a7d161",
   "metadata": {},
   "outputs": [],
   "source": [
    "sad_words = ['sad', 'bad', 'tragic', 'unhappy', 'worst']"
   ]
  },
  {
   "cell_type": "code",
   "execution_count": 8,
   "id": "2ac31ea5",
   "metadata": {},
   "outputs": [],
   "source": [
    "# store the final answer in this variable\n",
    "number_of_happy_tweets = 0\n",
    "\n",
    "# perform the calculations here\n",
    "for tweet in tweets:\n",
    "    isHappyTweet=False\n",
    "    for word in happy_words:\n",
    "        if word in tweet:\n",
    "            isHappyTweet=True\n",
    "            break\n",
    "    if isHappyTweet==True:\n",
    "        number_of_happy_tweets+=1"
   ]
  },
  {
   "cell_type": "code",
   "execution_count": 9,
   "id": "8a980985",
   "metadata": {},
   "outputs": [
    {
     "name": "stdout",
     "output_type": "stream",
     "text": [
      "Number of happy tweets: 6\n"
     ]
    }
   ],
   "source": [
    "print(\"Number of happy tweets:\", number_of_happy_tweets)"
   ]
  }
 ],
 "metadata": {
  "kernelspec": {
   "display_name": "Python 3",
   "language": "python",
   "name": "python3"
  },
  "language_info": {
   "codemirror_mode": {
    "name": "ipython",
    "version": 3
   },
   "file_extension": ".py",
   "mimetype": "text/x-python",
   "name": "python",
   "nbconvert_exporter": "python",
   "pygments_lexer": "ipython3",
   "version": "3.13.5"
  }
 },
 "nbformat": 4,
 "nbformat_minor": 5
}
