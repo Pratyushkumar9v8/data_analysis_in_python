{
 "cells": [
  {
   "cell_type": "markdown",
   "id": "5ce143b2",
   "metadata": {},
   "source": [
    "<!-- https://www.kaggle.com/code/pratyushsharma9/notebook147a381295/edit -->"
   ]
  },
  {
   "cell_type": "code",
   "execution_count": 6,
   "id": "0d4f5220",
   "metadata": {},
   "outputs": [],
   "source": [
    "person = {\"Name\":'Pratyush Kumar', \"Age\":18, \"HasAndroidPhone\":True}"
   ]
  },
  {
   "cell_type": "code",
   "execution_count": 7,
   "id": "f5577d0b",
   "metadata": {},
   "outputs": [
    {
     "name": "stdout",
     "output_type": "stream",
     "text": [
      "Pratyush Kumar is aged 18, and owns an Android phone.\n"
     ]
    }
   ],
   "source": [
    "print(\"{} is aged {}, and owns an {}.\".format(\n",
    "    person[\"Name\"], \n",
    "    person[\"Age\"], \n",
    "    \"Android phone\" if person[\"HasAndroidPhone\"] else \"iPhone\"\n",
    "))"
   ]
  },
  {
   "cell_type": "code",
   "execution_count": 13,
   "id": "eb5d0b59",
   "metadata": {},
   "outputs": [
    {
     "name": "stdout",
     "output_type": "stream",
     "text": [
      "The key Name has the value Pratyush Kumar of the type <class 'str'>\n",
      "The key Age has the value 18 of the type <class 'int'>\n",
      "The key HasAndroidPhone has the value True of the type <class 'bool'>\n"
     ]
    }
   ],
   "source": [
    "for key , value in person.items():\n",
    "    print(\"The key {} has the value {} of the type {}\".format(key,value,type(value)))"
   ]
  },
  {
   "cell_type": "code",
   "execution_count": 2,
   "id": "71998404",
   "metadata": {},
   "outputs": [
    {
     "name": "stdout",
     "output_type": "stream",
     "text": [
      "The sum of numbers between 18 and 534 that are divisible by 7 is 20461\n"
     ]
    }
   ],
   "source": [
    "# store the final answer in this variable\n",
    "sum_of_numbers = 0\n",
    "\n",
    "# perform the calculation here\n",
    "for i in range(18,534):\n",
    "    if i%7==0 :\n",
    "        sum_of_numbers+=i\n",
    "\n",
    "print(\"The sum of numbers between 18 and 534 that are divisible by 7 is {}\".format(sum_of_numbers))"
   ]
  }
 ],
 "metadata": {
  "kernelspec": {
   "display_name": "Python 3",
   "language": "python",
   "name": "python3"
  },
  "language_info": {
   "codemirror_mode": {
    "name": "ipython",
    "version": 3
   },
   "file_extension": ".py",
   "mimetype": "text/x-python",
   "name": "python",
   "nbconvert_exporter": "python",
   "pygments_lexer": "ipython3",
   "version": "3.13.5"
  }
 },
 "nbformat": 4,
 "nbformat_minor": 5
}
