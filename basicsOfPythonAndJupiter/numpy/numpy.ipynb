{
 "cells": [
  {
   "cell_type": "code",
   "execution_count": 1,
   "id": "27e5f55d",
   "metadata": {},
   "outputs": [],
   "source": [
    "import numpy as np "
   ]
  },
  {
   "cell_type": "code",
   "execution_count": 2,
   "id": "f8f8d2da",
   "metadata": {},
   "outputs": [],
   "source": [
    "weights=np.array([58,59,84,61])\n",
    "heights=np.array([1,1.2,1.5,0.9])"
   ]
  },
  {
   "cell_type": "code",
   "execution_count": 6,
   "id": "421d9636",
   "metadata": {},
   "outputs": [
    {
     "name": "stdout",
     "output_type": "stream",
     "text": [
      "CPU times: total: 0 ns\n",
      "Wall time: 88.2 μs\n"
     ]
    },
    {
     "data": {
      "text/plain": [
       "np.float64(309.7)"
      ]
     },
     "execution_count": 6,
     "metadata": {},
     "output_type": "execute_result"
    }
   ],
   "source": [
    "%%time\n",
    "np.dot(weights,heights)"
   ]
  },
  {
   "cell_type": "code",
   "execution_count": 4,
   "id": "298dd879",
   "metadata": {},
   "outputs": [
    {
     "data": {
      "text/plain": [
       "np.float64(309.7)"
      ]
     },
     "execution_count": 4,
     "metadata": {},
     "output_type": "execute_result"
    }
   ],
   "source": [
    "(weights*heights).sum()"
   ]
  },
  {
   "cell_type": "code",
   "execution_count": 5,
   "id": "85f8a00d",
   "metadata": {},
   "outputs": [
    {
     "data": {
      "text/plain": [
       "array([ 58. ,  70.8, 126. ,  54.9])"
      ]
     },
     "execution_count": 5,
     "metadata": {},
     "output_type": "execute_result"
    }
   ],
   "source": [
    "weights*heights"
   ]
  },
  {
   "cell_type": "markdown",
   "id": "a9a9a78a",
   "metadata": {},
   "source": [
    "matrix multiplication"
   ]
  },
  {
   "cell_type": "code",
   "execution_count": 7,
   "id": "f6273d4e",
   "metadata": {},
   "outputs": [],
   "source": [
    "climate=np.array([[1,2,3],[2,3,4],[3,4,5]])"
   ]
  },
  {
   "cell_type": "code",
   "execution_count": 8,
   "id": "ae22d518",
   "metadata": {},
   "outputs": [],
   "source": [
    "weight=np.array([1,2,3])"
   ]
  },
  {
   "cell_type": "code",
   "execution_count": 9,
   "id": "5b39fb19",
   "metadata": {},
   "outputs": [
    {
     "data": {
      "text/plain": [
       "array([14, 20, 26])"
      ]
     },
     "execution_count": 9,
     "metadata": {},
     "output_type": "execute_result"
    }
   ],
   "source": [
    "np.matmul(climate,weight)"
   ]
  },
  {
   "cell_type": "code",
   "execution_count": 10,
   "id": "7425a1c0",
   "metadata": {},
   "outputs": [
    {
     "data": {
      "text/plain": [
       "array([14, 20, 26])"
      ]
     },
     "execution_count": 10,
     "metadata": {},
     "output_type": "execute_result"
    }
   ],
   "source": [
    "climate @ weight"
   ]
  }
 ],
 "metadata": {
  "kernelspec": {
   "display_name": "Python 3",
   "language": "python",
   "name": "python3"
  },
  "language_info": {
   "codemirror_mode": {
    "name": "ipython",
    "version": 3
   },
   "file_extension": ".py",
   "mimetype": "text/x-python",
   "name": "python",
   "nbconvert_exporter": "python",
   "pygments_lexer": "ipython3",
   "version": "3.13.5"
  }
 },
 "nbformat": 4,
 "nbformat_minor": 5
}
